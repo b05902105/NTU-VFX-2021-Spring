{
 "cells": [
  {
   "cell_type": "code",
   "execution_count": 10,
   "metadata": {},
   "outputs": [],
   "source": [
    "import cv2\n",
    "import numpy as np\n",
    "import matplotlib.pyplot as plt\n",
    "\n",
    "from os import listdir\n",
    "from os.path import join"
   ]
  },
  {
   "cell_type": "code",
   "execution_count": 32,
   "metadata": {},
   "outputs": [],
   "source": [
    "def imread(path):\n",
    "    print(sorted(listdir(path)))\n",
    "    return [cv2.imread(join(path, file), cv2.IMREAD_COLOR) for file in sorted(listdir(path))]"
   ]
  },
  {
   "cell_type": "code",
   "execution_count": 33,
   "metadata": {},
   "outputs": [
    {
     "name": "stdout",
     "output_type": "stream",
     "text": [
      "['.DS_Store', 'memorial0061.png', 'memorial0062.png', 'memorial0063.png', 'memorial0064.png', 'memorial0065.png', 'memorial0066.png', 'memorial0067.png', 'memorial0068.png', 'memorial0069.png', 'memorial0070.png', 'memorial0071.png', 'memorial0072.png', 'memorial0073.png', 'memorial0074.png', 'memorial0075.png', 'memorial0076.png']\n",
      "None\n"
     ]
    }
   ],
   "source": [
    "path = './data/images2'\n",
    "\n",
    "# BGR Images\n",
    "images = imread(path)\n",
    "\n",
    "print(images[0])"
   ]
  }
 ],
 "metadata": {
  "kernelspec": {
   "display_name": "base",
   "language": "python",
   "name": "base"
  },
  "language_info": {
   "codemirror_mode": {
    "name": "ipython",
    "version": 3
   },
   "file_extension": ".py",
   "mimetype": "text/x-python",
   "name": "python",
   "nbconvert_exporter": "python",
   "pygments_lexer": "ipython3",
   "version": "3.8.2"
  }
 },
 "nbformat": 4,
 "nbformat_minor": 4
}
